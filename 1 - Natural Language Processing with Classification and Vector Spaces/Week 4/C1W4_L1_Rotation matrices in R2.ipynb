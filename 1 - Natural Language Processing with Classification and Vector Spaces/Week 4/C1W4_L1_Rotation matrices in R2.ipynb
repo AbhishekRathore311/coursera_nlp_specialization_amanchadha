{
 "cells": [
  {
   "cell_type": "markdown",
   "metadata": {},
   "source": [
    "# Vector manipulation in Python\n",
    "\n",
    "In this lab, you will have the opportunity to practice once again with the NumPy library. This time, we will explore some advanced operations with arrays and matrices.\n",
    "\n",
    "At the end of the previous module, we used PCA to transform a set of many variables into a set of only two uncorrelated variables. This process was made through a transformation of the data called rotation. \n",
    "\n",
    "In this week's assignment, you will need to find a transformation matrix from English to French vector space embeddings. Such a transformation matrix is nothing else but a matrix that rotates and scales vector spaces.\n",
    "\n",
    "In this notebook, we will explain in detail the rotation transformation. "
   ]
  },
  {
   "cell_type": "markdown",
   "metadata": {},
   "source": [
    "## Transforming vectors\n",
    "\n",
    "There are three main vector transformations:\n",
    "* Scaling\n",
    "* Translation\n",
    "* Rotation\n",
    "\n",
    "In previous notebooks, we have applied the first two kinds of transformations. Now, let us learn how to use a fundamental transformation on vectors called _rotation_.\n",
    "\n",
    "The rotation operation changes the direction of a vector, letting unaffected its dimensionality and its norm. Let us explain with some examples. \n",
    "\n",
    "In the following cells, we will define a NumPy matrix and a NumPy array. Soon we will explain how this is related to matrix rotation."
   ]
  },
  {
   "cell_type": "code",
   "execution_count": 1,
   "metadata": {},
   "outputs": [],
   "source": [
    "import numpy as np                     # Import numpy for array manipulation\n",
    "import matplotlib.pyplot as plt        # Import matplotlib for charts\n",
    "from utils_nb import plot_vectors      # Function to plot vectors (arrows)"
   ]
  },
  {
   "cell_type": "markdown",
   "metadata": {},
   "source": [
    "### Example 1"
   ]
  },
  {
   "cell_type": "code",
   "execution_count": 2,
   "metadata": {},
   "outputs": [],
   "source": [
    "# Create a 2 x 2 matrix\n",
    "R = np.array([[2, 0],\n",
    "              [0, -2]])"
   ]
  },
  {
   "cell_type": "code",
   "execution_count": 3,
   "metadata": {},
   "outputs": [],
   "source": [
    "x = np.array([[1, 1]]) # Create a 1 x 2 matrix"
   ]
  },
  {
   "cell_type": "markdown",
   "metadata": {},
   "source": [
    "The dot product between a vector and a square matrix produces a rotation and a scaling of the original vector. \n",
    "\n",
    "Remember that our recommended way to get the dot product in Python is np.dot(a, b):"
   ]
  },
  {
   "cell_type": "code",
   "execution_count": 4,
   "metadata": {},
   "outputs": [
    {
     "data": {
      "text/plain": [
       "array([[ 2, -2]])"
      ]
     },
     "execution_count": 4,
     "metadata": {},
     "output_type": "execute_result"
    }
   ],
   "source": [
    "y = np.dot(x, R) # Apply the dot product between x and R\n",
    "y"
   ]
  },
  {
   "cell_type": "markdown",
   "metadata": {},
   "source": [
    "We are going to use Pyplot to inspect the effect of the rotation on 2D vectors visually. For that, we have created a function `plot_vectors()` that takes care of all the intricate parts of the visual formatting. The code for this function is inside the `utils_nb.py` file. \n",
    "\n",
    "Now we can plot the vector $\\vec x = [1, 1]$ in a cartesian plane. The cartesian plane will be centered at `[0,0]` and its x and y limits will be between `[-4, +4]`"
   ]
  },
  {
   "cell_type": "code",
   "execution_count": 5,
   "metadata": {},
   "outputs": [
    {
     "data": {
      "image/png": "[encoded data removed]",
      "text/plain": [
       "<Figure size 640x480 with 1 Axes>"
      ]
     },
     "metadata": {},
     "output_type": "display_data"
    }
   ],
   "source": [
    "plot_vectors([x], axes=[4, 4], fname='transform_x.svg')"
   ]
  },
  {
   "cell_type": "markdown",
   "metadata": {},
   "source": [
    "Now, let's plot in the same system our vector $\\vec x = [1, 1]$ and its dot product with the matrix\n",
    "\n",
    "$$Ro = \\begin{bmatrix} 2 & 0 \\\\ 0 & -2 \\end{bmatrix}$$\n",
    "\n",
    "$$y = x \\cdot Ro = [[-2, 2]]$$"
   ]
  },
  {
   "cell_type": "code",
   "execution_count": 6,
   "metadata": {},
   "outputs": [
    {
     "data": {
      "image/png": "[encoded data removed]",
      "text/plain": [
       "<Figure size 640x480 with 1 Axes>"
      ]
     },
     "metadata": {},
     "output_type": "display_data"
    }
   ],
   "source": [
    "plot_vectors([x, y], axes=[4, 4], fname='transformx_and_y.svg')"
   ]
  },
  {
   "cell_type": "markdown",
   "metadata": {},
   "source": [
    "Note that the output vector `y` (blue) is transformed in another vector. "
   ]
  },
  {
   "cell_type": "markdown",
   "metadata": {},
   "source": [
    "### Example 2\n",
    "\n",
    "We are going to use Pyplot to inspect the effect of the rotation on 2D vectors visually. For that, we have created a function that takes care of all the intricate parts of the visual formatting. The following procedure plots an arrow within a Pyplot canvas.\n",
    "\n",
    "Data that is composed of 2 real attributes is telling to belong to a $ RxR $ or $ R^2 $ space. Rotation matrices in $R^2$ rotate a given vector $\\vec x$ by a counterclockwise angle $\\theta$ in a fixed coordinate system. Rotation matrices are of the form:\n",
    "\n",
    "$$Ro = \\begin{bmatrix} cos \\theta & -sin \\theta \\\\ sin \\theta & cos \\theta \\end{bmatrix}$$\n",
    "\n",
    "The trigonometric functions in Numpy require the angle in radians, not in degrees. In the next cell, we define a rotation matrix that rotates vectors by $45^o$."
   ]
  },
  {
   "cell_type": "code",
   "execution_count": 11,
   "metadata": {},
   "outputs": [
    {
     "name": "stdout",
     "output_type": "stream",
     "text": [
      "\\Input vector\n",
      "[[2 2]]\n",
      "\n",
      "Rotation matrix\n",
      "[[ 6.123234e-17 -1.000000e+00]\n",
      " [ 1.000000e+00  6.123234e-17]]\n",
      "\n",
      "Rotated vector\n",
      "[[ 2. -2.]]\n",
      "\n",
      " x2 norm 2.8284271247461903\n",
      "\n",
      " y2 norm 2.82842712474619\n",
      "\n",
      " Rotation matrix norm 1.4142135623730951\n"
     ]
    }
   ],
   "source": [
    "angle = 90 * (np.pi / 180) #convert degrees to radians\n",
    "\n",
    "Ro = np.array([[np.cos(angle), -np.sin(angle)],\n",
    "              [np.sin(angle), np.cos(angle)]])\n",
    "\n",
    "x2 = np.array([2, 2]).reshape(1, -1) # make it a row vector\n",
    "y2 = np.dot(x2, Ro)\n",
    "\n",
    "print('\\Input vector')\n",
    "print(x2)\n",
    "print('\\nRotation matrix')\n",
    "print(Ro)\n",
    "print('\\nRotated vector')\n",
    "print(y2)\n",
    "\n",
    "print('\\n x2 norm', np.linalg.norm(x2))\n",
    "print('\\n y2 norm', np.linalg.norm(y2))\n",
    "print('\\n Rotation matrix norm', np.linalg.norm(Ro))"
   ]
  },
  {
   "cell_type": "code",
   "execution_count": 12,
   "metadata": {},
   "outputs": [
    {
     "data": {
      "image/png": "[encoded data removed]",
      "text/plain": [
       "<Figure size 640x480 with 1 Axes>"
      ]
     },
     "metadata": {},
     "output_type": "display_data"
    }
   ],
   "source": [
    "plot_vectors([x2, y2], fname='transform_02.svg')"
   ]
  },
  {
   "cell_type": "markdown",
   "metadata": {},
   "source": [
    "Some points to note:\n",
    "\n",
    "* The norm of the input vector is the same as the norm of the output vector. Rotations matrices do not modify the norm of the vector, only its direction.\n",
    "* The norm of any $R^2$ rotation matrix is always $\\sqrt 2 = 1.414221$"
   ]
  },
  {
   "cell_type": "markdown",
   "metadata": {},
   "source": [
    "## Frobenius Norm\n",
    "\n",
    "The Frobenius norm is the generalization to $R^2$ of the already known norm function for vectors \n",
    "\n",
    "$$\\| \\vec a \\| = \\sqrt {{\\vec a} \\cdot {\\vec a}} $$\n",
    "\n",
    "For a given $R^2$ matrix A, the frobenius norm is defined as:\n",
    "\n",
    "$$\\|\\mathrm{A}\\|_{F} \\equiv \\sqrt{\\sum_{i=1}^{m} \\sum_{j=1}^{n}\\left|a_{i j}\\right|^{2}}$$\n"
   ]
  },
  {
   "cell_type": "code",
   "execution_count": 13,
   "metadata": {},
   "outputs": [],
   "source": [
    "A = np.array([[2, 2],\n",
    "              [2, 2]])"
   ]
  },
  {
   "cell_type": "markdown",
   "metadata": {},
   "source": [
    "`np.square()` is a way to square each element of a matrix. It must be equivalent to use the * operator in Numpy arrays."
   ]
  },
  {
   "cell_type": "code",
   "execution_count": 14,
   "metadata": {},
   "outputs": [
    {
     "data": {
      "text/plain": [
       "array([[4, 4],\n",
       "       [4, 4]])"
      ]
     },
     "execution_count": 14,
     "metadata": {},
     "output_type": "execute_result"
    }
   ],
   "source": [
    "A_squared = np.square(A)\n",
    "A_squared"
   ]
  },
  {
   "cell_type": "markdown",
   "metadata": {},
   "source": [
    "Now you can sum over the elements of the resulting array, and then get the square root of the sum."
   ]
  },
  {
   "cell_type": "code",
   "execution_count": 15,
   "metadata": {},
   "outputs": [
    {
     "data": {
      "text/plain": [
       "4.0"
      ]
     },
     "execution_count": 15,
     "metadata": {},
     "output_type": "execute_result"
    }
   ],
   "source": [
    "A_Frobenius = np.sqrt(np.sum(A_squared))\n",
    "A_Frobenius"
   ]
  },
  {
   "cell_type": "markdown",
   "metadata": {},
   "source": [
    "That was the extended version of the `np.linalg.norm()` function. You can check that it yields the same result."
   ]
  },
  {
   "cell_type": "code",
   "execution_count": 16,
   "metadata": {},
   "outputs": [
    {
     "name": "stdout",
     "output_type": "stream",
     "text": [
      "Frobenius norm of the Rotation matrix\n",
      "1.4142135623730951 ==  1.4142135623730951\n"
     ]
    }
   ],
   "source": [
    "print('Frobenius norm of the Rotation matrix')\n",
    "print(np.sqrt(np.sum(Ro * Ro)), '== ', np.linalg.norm(Ro))"
   ]
  },
  {
   "cell_type": "markdown",
   "metadata": {},
   "source": [
    "**Congratulations!! We've covered a few more matrix operations in this lab. This will come in handy in this week's programming assignment!**"
   ]
  }
 ],
 "metadata": {
  "kernelspec": {
   "display_name": "Python 3.7.13 ('base')",
   "language": "python",
   "name": "python3"
  },
  "language_info": {
   "codemirror_mode": {
    "name": "ipython",
    "version": 3
   },
   "file_extension": ".py",
   "mimetype": "text/x-python",
   "name": "python",
   "nbconvert_exporter": "python",
   "pygments_lexer": "ipython3",
   "version": "3.7.13"
  },
  "vscode": {
   "interpreter": {
    "hash": "270af51b3687a98de993e3398f2a00195eb6c674711263c21cd6f4db7277b321"
   }
  }
 },
 "nbformat": 4,
 "nbformat_minor": 2
}
